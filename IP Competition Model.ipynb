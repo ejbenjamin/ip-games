{
 "cells": [
  {
   "cell_type": "markdown",
   "metadata": {},
   "source": [
    "## Multi-stage game\n",
    "\n",
    "* Stage 1: Firms compete to take positions\n",
    "* Stage 2: Firms produce and price products\n",
    "* Stage 3: Consumers choose which product to buy."
   ]
  },
  {
   "cell_type": "markdown",
   "metadata": {},
   "source": [
    "## Environment\n",
    "\n",
    "There is a 2D space which is (both?) intellectual property and consumer preferences."
   ]
  },
  {
   "cell_type": "markdown",
   "metadata": {},
   "source": [
    "## Firms\n",
    "\n",
    "Firms $f \\in F$, have properties:\n",
    " * $m_f$ money\n",
    " \n",
    "Firms can spend money:\n",
    " - To issue products on the market\n",
    " - To engage in R&D\n",
    " - To defend their R&D \"territory\"\n",
    " \n",
    "* Willingness to compete by engaging in risky R&D that may infringe on IP resources.\n",
    "  * Firms must enforce their own IP resources but will only do so if they are likely to win (litigation - larger firms with more resources can outlast smaller firms in a legal setting).\n",
    "  * Likelihood of winning calculated based on resources where the difference between firm resources is a proxy for likelihood of winning.\n",
    "  * Greater the difference in resources, the greater the likelihood of winning.\n",
    "  * Knowing that firms enforce their own IP resource, firms will only engage in risky R&D if the likelihood that another firm will enforce their IP resources is low.\n",
    "   \n",
    "* Firm cycle\n",
    "  * Each cycle, firms contemplate engaging some risky R&D\n",
    "  * Randomly select firms to assess if they can engage in risky R&D that might infringe on that firm’s IP resources\n",
    "  * Firms can engage in a set amount of IP development (non-risky R&D) proportional to their size\n",
    "  * If they want to grow beyond their market weight, they have to engage in some risky R&D\n",
    "  * Firms lose IP resources, if another firm chooses to engage in risky R&D and they cannot successfully enforce ownership rights\n",
    "  * Firms with insufficient resources to compete, drop out of the market"
   ]
  },
  {
   "cell_type": "code",
   "execution_count": 19,
   "metadata": {},
   "outputs": [],
   "source": [
    "p_1 = np.random.random((2,10))\n",
    "p_2 = np.random.random((2,10))"
   ]
  },
  {
   "cell_type": "code",
   "execution_count": 20,
   "metadata": {},
   "outputs": [
    {
     "data": {
      "text/plain": [
       "<matplotlib.collections.PathCollection at 0x7f246842aa58>"
      ]
     },
     "execution_count": 20,
     "metadata": {},
     "output_type": "execute_result"
    },
    {
     "data": {
      "image/png": "[encoded data removed]",
      "text/plain": [
       "<Figure size 432x288 with 1 Axes>"
      ]
     },
     "metadata": {
      "needs_background": "light"
     },
     "output_type": "display_data"
    }
   ],
   "source": [
    "plt.scatter(p_1[0,:], p_1[1,:], color = 'b')\n",
    "plt.scatter(p_2[0,:], p_2[1,:], color = 'r')"
   ]
  },
  {
   "cell_type": "markdown",
   "metadata": {},
   "source": [
    "## Consumers\n",
    "\n",
    "$ i \\in I$\n",
    "  \n",
    "Here's a simple way to do this:\n",
    " - Each firm is going to offer some products $k \\in K$\n",
    " - Consumer demand is defined by a point $(x,y)$ in a two dimensional space\n",
    " - Consumer utility is a function of linear distance from this point.\n",
    "    - For a product $k$, $U_i(p_k, x_k, y_k) = - p - \\sqrt{(x_c - x_k)^2 + (y_c - y_k)^2}$\n",
    "    - Subject to constraint that $p_k < i_c$\n",
    "    - Consumers will pick $d^*_c$ the product that maximized their utility.\n",
    " - Firm that offers $k$ collects $p_k$ from the consumers.\n",
    "\n",
    " \n",
    "For specific models:\n",
    " - Simplest case: Even coverage of the entire preference space by consumer population\n",
    " - Next case: Random coverage\n",
    " - Biased sampling."
   ]
  },
  {
   "cell_type": "markdown",
   "metadata": {},
   "source": [
    "## Pricing\n",
    "\n",
    "(let's assume one product per firm for now).\n",
    "\n",
    "\n",
    "Given prices for all _other_ products $p_j$, where $j \\in K, j \\neq k$.\n",
    "And given consumers $(i_c, x_c, y_c) = c \\in C$.\n",
    "\n",
    "Then the choice of price $p_k$.\n",
    "\n",
    "$$R(p, k) = \\sum_{c \\in C} p_k [k = d^*_c]$$\n",
    "\n"
   ]
  },
  {
   "cell_type": "markdown",
   "metadata": {},
   "source": [
    "# Overall model\n",
    "\n",
    "Alternate consumer and firm cycles."
   ]
  },
  {
   "cell_type": "code",
   "execution_count": 4,
   "metadata": {
    "scrolled": true
   },
   "outputs": [
    {
     "data": {
      "text/plain": [
       "[<matplotlib.lines.Line2D at 0x7f246a74fc50>]"
      ]
     },
     "execution_count": 4,
     "metadata": {},
     "output_type": "execute_result"
    },
    {
     "data": {
      "image/png": "[encoded data removed]",
      "text/plain": [
       "<Figure size 432x288 with 1 Axes>"
      ]
     },
     "metadata": {
      "needs_background": "light"
     },
     "output_type": "display_data"
    }
   ],
   "source": [
    "import matplotlib.pyplot as plt\n",
    "import numpy as np\n",
    "\n",
    "plt.plot(np.log1p(np.arange(0,100)))"
   ]
  },
  {
   "cell_type": "markdown",
   "metadata": {},
   "source": [
    "# Stages (in reverse)\n",
    "\n",
    "## Stage 3: Consumers choose products\n",
    "\n",
    "$$U_c(r) = - f(c, r) - p_r$$\n",
    "\n",
    "$$U_c(r) = - \\sqrt{(c_x - r_x)^2 + (c_y - r_y)^2} - p_r $$\n",
    "\n",
    "$$d^*_c = \\text{argmax}_{r \\in R} U_c(r) $$\n",
    "\n",
    "$$U_f( \\cdot ) = \\sum_{r } []$$"
   ]
  },
  {
   "cell_type": "code",
   "execution_count": null,
   "metadata": {},
   "outputs": [],
   "source": []
  }
 ],
 "metadata": {
  "kernelspec": {
   "display_name": "Python 3",
   "language": "python",
   "name": "python3"
  },
  "language_info": {
   "codemirror_mode": {
    "name": "ipython",
    "version": 3
   },
   "file_extension": ".py",
   "mimetype": "text/x-python",
   "name": "python",
   "nbconvert_exporter": "python",
   "pygments_lexer": "ipython3",
   "version": "3.6.12"
  },
  "latex_envs": {
   "LaTeX_envs_menu_present": true,
   "autoclose": false,
   "autocomplete": true,
   "bibliofile": "biblio.bib",
   "cite_by": "apalike",
   "current_citInitial": 1,
   "eqLabelWithNumbers": true,
   "eqNumInitial": 1,
   "hotkeys": {
    "equation": "Ctrl-E",
    "itemize": "Ctrl-I"
   },
   "labels_anchors": false,
   "latex_user_defs": false,
   "report_style_numbering": false,
   "user_envs_cfg": false
  },
  "toc": {
   "base_numbering": 1,
   "nav_menu": {},
   "number_sections": true,
   "sideBar": true,
   "skip_h1_title": false,
   "title_cell": "Table of Contents",
   "title_sidebar": "Contents",
   "toc_cell": false,
   "toc_position": {},
   "toc_section_display": true,
   "toc_window_display": false
  }
 },
 "nbformat": 4,
 "nbformat_minor": 4
}
